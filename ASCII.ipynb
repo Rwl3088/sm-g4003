from unidecode import unidecode
original_file = 'ph_dedup.txt'
converted_file = 'ascii_list.txt'
fh = open(original_file,'r')
wh = open(converted_file,'w')

for line in fh:
    line = line.strip()
    ascii_c = unidecode(line)
    wh.write(ascii_c + '\n')
wh.close()
